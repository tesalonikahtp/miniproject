{
  "nbformat": 4,
  "nbformat_minor": 0,
  "metadata": {
    "colab": {
      "provenance": []
    },
    "kernelspec": {
      "name": "python3",
      "display_name": "Python 3"
    },
    "language_info": {
      "name": "python"
    }
  },
  "cells": [
    {
      "cell_type": "markdown",
      "source": [
        "#Libraries\n",
        "\n",
        "---\n",
        "\n"
      ],
      "metadata": {
        "id": "rcj-ucisDga3"
      }
    },
    {
      "cell_type": "code",
      "execution_count": 56,
      "metadata": {
        "id": "R96Q70btBYgh"
      },
      "outputs": [],
      "source": [
        "import numpy as np\n",
        "import pandas as pd\n",
        "\n",
        "from sklearn.model_selection import cross_val_score, KFold, RandomizedSearchCV\n",
        "from sklearn.preprocessing import StandardScaler\n",
        "\n",
        "from sklearn.linear_model import LogisticRegression\n",
        "from sklearn.tree import DecisionTreeClassifier\n",
        "from sklearn.neighbors import KNeighborsClassifier\n",
        "from sklearn.svm import SVC\n",
        "from sklearn.ensemble import RandomForestClassifier\n",
        "import xgboost as xgb\n",
        "\n",
        "import seaborn as sns\n"
      ]
    },
    {
      "cell_type": "markdown",
      "source": [
        "#Import and Load Data"
      ],
      "metadata": {
        "id": "15GX2-aEDwCH"
      }
    },
    {
      "cell_type": "code",
      "source": [
        "train_data = pd.read_csv(\"train.csv\")\n",
        "test_data = pd.read_csv(\"test.csv\")"
      ],
      "metadata": {
        "id": "jA3PDko_D7I2"
      },
      "execution_count": null,
      "outputs": []
    },
    {
      "cell_type": "markdown",
      "source": [
        "#Exploratory Data Analysis (EDA)"
      ],
      "metadata": {
        "id": "a7_P2TAQE1H2"
      }
    },
    {
      "cell_type": "markdown",
      "source": [
        "Data Overview\n",
        "\n",
        "- - -"
      ],
      "metadata": {
        "id": "demak3vZE7Y0"
      }
    },
    {
      "cell_type": "code",
      "source": [
        "train_data.describe()"
      ],
      "metadata": {
        "id": "nyPgOdVvE9D_"
      },
      "execution_count": null,
      "outputs": []
    },
    {
      "cell_type": "markdown",
      "source": [
        "Examine the statistics of the numerical variables reveals the following observations :\n",
        "\n",
        "\n",
        "*   The \"Age\" variable exhibits normal values, with acceptable minimum and maximum ranges, seemingly free from outliers (tho this will be further investigated in the outliers analysis)\n",
        "\n",
        "*   \"SibSp\" and \"Parch\" values raise some concerns. It appears unusual to have 8 siblings or 6 children on the trip when most passengers have 0.\n",
        "\n",
        "*    The \"Fare\" values will be examined during the outliers step, as the maximum value appears excessively large.\n",
        "\n",
        "*    Upon examining the counts, it becomes evident that there are missing values for the \"Age\" variable, which will be addressed in the missing values step."
      ],
      "metadata": {
        "id": "3KpJUzV0FEKf"
      }
    },
    {
      "cell_type": "markdown",
      "source": [
        "Analyze the correlation between the variables\n",
        "- - -"
      ],
      "metadata": {
        "id": "TD6CupiTHGSu"
      }
    },
    {
      "cell_type": "code",
      "source": [
        "cmap=sns.cubehelix_palette(start=2)\n",
        "mask = np.triu(np.ones_like(train_data.corr(), dtype=bool))\n",
        "\n",
        "plt.figure(figsize=(10,5))\n",
        "sns.heatmap(train_data.corr(), vmin=-1, vmax=1, annot=True, mask=mask, cmap=cmap);"
      ],
      "metadata": {
        "id": "UpnOJwJmHLBC"
      },
      "execution_count": null,
      "outputs": []
    },
    {
      "cell_type": "markdown",
      "source": [
        "Most of them have a correlation not over than 30%. Only two pairs with a correlation more than 30%"
      ],
      "metadata": {
        "id": "CFi4sG4lHvYP"
      }
    },
    {
      "cell_type": "markdown",
      "source": [
        "Missing Values - Train Data\n",
        "\n",
        "\n",
        "---\n",
        "\n"
      ],
      "metadata": {
        "id": "6S--qX2kH91D"
      }
    },
    {
      "cell_type": "markdown",
      "source": [
        "Searching for missing values"
      ],
      "metadata": {
        "id": "Gw84tcouIjm_"
      }
    },
    {
      "cell_type": "code",
      "source": [
        "train_data.count()"
      ],
      "metadata": {
        "id": "VmB0uI7WI0iN"
      },
      "execution_count": null,
      "outputs": []
    },
    {
      "cell_type": "markdown",
      "source": [
        "Confirming missing values"
      ],
      "metadata": {
        "id": "r0bw_D4wI-hC"
      }
    },
    {
      "cell_type": "code",
      "source": [
        "train_data.isna().sum()"
      ],
      "metadata": {
        "id": "6NgBUE1nI-KT"
      },
      "execution_count": null,
      "outputs": []
    },
    {
      "cell_type": "markdown",
      "source": [
        "To address the issue of missing values, the following steps will be taken :\n",
        "\n",
        "\n",
        "*   The missing values for the \"Age\" will be replaced with the median since it's a numeric variable and less than 25% of the data is missing.\n",
        "\n",
        "*   The \"Cabin\" row will be droppped since it has such a high proportion of missing values.\n",
        "\n",
        "*   For the \"Embarked\" variable, if there are no missing values in the \"test_data\" set, rows with missing \"Embarked\" values in the \"train_data\" set will be removed. This is because \"Embarked\" is a categorical variable, and while it is possible to infer the missing values by analyzing other variables, the small number of missing cases (just 2 out of 891) makes this process not worth the time and effort.\n",
        "\n",
        "\n",
        "\n",
        "\n"
      ],
      "metadata": {
        "id": "ob7_XnW-JIMP"
      }
    },
    {
      "cell_type": "code",
      "source": [
        "test_data[\"Embarked\"].count()"
      ],
      "metadata": {
        "colab": {
          "base_uri": "https://localhost:8080/"
        },
        "id": "eyt3y7P_Kazq",
        "outputId": "05781f4a-e4bb-434e-9baf-ee7790411986"
      },
      "execution_count": 65,
      "outputs": [
        {
          "output_type": "execute_result",
          "data": {
            "text/plain": [
              "418"
            ]
          },
          "metadata": {},
          "execution_count": 65
        }
      ]
    },
    {
      "cell_type": "markdown",
      "source": [
        "Deal with missing values"
      ],
      "metadata": {
        "id": "not4Ob5YKy5N"
      }
    },
    {
      "cell_type": "code",
      "source": [
        "# Replace \"Age\" missing values by \"Age\" Median\n",
        "train_data[\"Age\"] = train_data[\"Age\"].fillna(train_data[\"Age\"].median())"
      ],
      "metadata": {
        "id": "VC2-hh8nK6Vk"
      },
      "execution_count": 66,
      "outputs": []
    },
    {
      "cell_type": "code",
      "source": [
        "# Remove rows with \"Embarked\" missing values\n",
        "train_data[train_data[\"Embarked\"].isna()]"
      ],
      "metadata": {
        "id": "eqw59VpTLIuX"
      },
      "execution_count": null,
      "outputs": []
    },
    {
      "cell_type": "code",
      "source": [
        "train_data.dropna(subset = [\"Embarked\"], how = \"all\", inplace = True)"
      ],
      "metadata": {
        "id": "r6GQ30_dLZU5"
      },
      "execution_count": 68,
      "outputs": []
    },
    {
      "cell_type": "markdown",
      "source": [
        "Missing Values - Test Data\n",
        "- - -"
      ],
      "metadata": {
        "id": "47NjlTT3LjO3"
      }
    },
    {
      "cell_type": "markdown",
      "source": [
        "Searching for missing values"
      ],
      "metadata": {
        "id": "KN_Ev6fmL9S_"
      }
    },
    {
      "cell_type": "code",
      "source": [
        "test_data.count()"
      ],
      "metadata": {
        "id": "q5TO3FK6L_Kr"
      },
      "execution_count": null,
      "outputs": []
    },
    {
      "cell_type": "markdown",
      "source": [
        "Deal with missing values"
      ],
      "metadata": {
        "id": "k6CcZ15KMChk"
      }
    },
    {
      "cell_type": "code",
      "source": [
        "# Replace \"Age\" missing values by \"Age\" median\n",
        "test_data[\"Age\"] = test_data[\"Age\"].fillna(test_data[\"Age\"].median())"
      ],
      "metadata": {
        "id": "RpCTVvVkMCOS"
      },
      "execution_count": 70,
      "outputs": []
    },
    {
      "cell_type": "code",
      "source": [
        "# Replace \"Fare\" missing values by \"Fare\" median (for the same reason as changing \"Age\" missing values)\n",
        "test_data[\"Fare\"] = test_data[\"Fare\"].fillna(test_data[\"Fare\"].median())"
      ],
      "metadata": {
        "id": "oANe9BJ0M0ob"
      },
      "execution_count": 71,
      "outputs": []
    },
    {
      "cell_type": "markdown",
      "source": [
        "Outliers\n",
        "- - -"
      ],
      "metadata": {
        "id": "Rn1wqKQgNGOv"
      }
    },
    {
      "cell_type": "code",
      "source": [
        "fig = make_subplots(rows=4, cols=1,\n",
        "                    subplot_titles=(\"Age\", \"Amount of Siblings / Spouses Aboard the Titanic (SibSp)\", \"Amount of Parents / Children Aboard the Titanic (Parch)\", \"Fare\"))\n",
        "\n",
        "fig.add_trace(go.Box(x=train_data[\"Age\"]),\n",
        "              row=1, col=1)\n",
        "\n",
        "fig.add_trace(go.Box(x=train_data[\"SibSp\"]),\n",
        "              row=2, col=1)\n",
        "\n",
        "fig.add_trace(go.Box(x=train_data[\"Parch\"]),\n",
        "              row=3, col=1)\n",
        "\n",
        "fig.add_trace(go.Box(x=train_data[\"Fare\"]),\n",
        "              row=4, col=1)\n",
        "\n",
        "fig.update_layout(height=500, width=1000, yaxis_visible=False, yaxis2_visible=False, yaxis3_visible=False, yaxis4_visible=False, showlegend=False)\n",
        "\n",
        "fig.show()"
      ],
      "metadata": {
        "id": "ZndEtJ9nM9Ku"
      },
      "execution_count": null,
      "outputs": []
    },
    {
      "cell_type": "markdown",
      "source": [
        "I will conduct an analysis to identify the number of passengers with specific characteristics in both the \"train_data\" and \"test_data\" datasets:\n",
        "\n",
        "\n",
        "*   \"Age\" over 66 years old\n",
        "*   \"SibSp\" values over 5 (indicating more than 5 siblings/spouses aboard)\n",
        "*   \"Fare\" values over 300.\n",
        "\n",
        "Since I need to predict the survival of the 418 passengers in the \"test_data\" dataset, I cannot simply remove rows with these characteristics. Instead, I will handle them differently based on their prevalence. If there is a small number of passengers with these characteristics in both datasets, I will replace their values with the median. However, if a considerable number of passengers exhibit these characteristics, I will conduct a separate analysis to address them appropriately."
      ],
      "metadata": {
        "id": "qvIg1hhWNyAO"
      }
    },
    {
      "cell_type": "code",
      "source": [
        "train_data[\"Age\"][train_data[\"Age\"] > 66].count()"
      ],
      "metadata": {
        "id": "65qtZzhVEAw2"
      },
      "execution_count": null,
      "outputs": []
    },
    {
      "cell_type": "code",
      "source": [
        "train_data[\"SibSp\"][train_data[\"SibSp\"] > 5].count()"
      ],
      "metadata": {
        "id": "5BwfT0UAETPE"
      },
      "execution_count": null,
      "outputs": []
    },
    {
      "cell_type": "code",
      "source": [
        "train_data[\"Fare\"][train_data[\"Fare\"] > 300].count()"
      ],
      "metadata": {
        "id": "qUOt2f94EWi_"
      },
      "execution_count": null,
      "outputs": []
    },
    {
      "cell_type": "code",
      "source": [
        "test_data[\"Age\"][test_data[\"Age\"] > 66].count()"
      ],
      "metadata": {
        "id": "C7w72EkVEYZ_"
      },
      "execution_count": null,
      "outputs": []
    },
    {
      "cell_type": "code",
      "source": [
        "test_data[\"SibSp\"][test_data[\"SibSp\"] > 5].count()"
      ],
      "metadata": {
        "id": "eeNR2PbaEc_K"
      },
      "execution_count": null,
      "outputs": []
    },
    {
      "cell_type": "code",
      "source": [
        "test_data[\"Fare\"][test_data[\"Fare\"] > 300].count()"
      ],
      "metadata": {
        "id": "LkXFu-PQEf02"
      },
      "execution_count": null,
      "outputs": []
    },
    {
      "cell_type": "markdown",
      "source": [
        "Deal with Outliers - Train Data"
      ],
      "metadata": {
        "id": "hK_FeYVfEo9a"
      }
    },
    {
      "cell_type": "code",
      "source": [
        "median_age = train_data[\"Age\"].median()\n",
        "train_data[\"Age\"] = np.where(train_data[\"Age\"] > 66, median_age,train_data[\"Age\"])"
      ],
      "metadata": {
        "id": "nwaKUgw5EuS4"
      },
      "execution_count": 79,
      "outputs": []
    },
    {
      "cell_type": "code",
      "source": [
        "median_sibsp = train_data[\"SibSp\"].median()\n",
        "train_data[\"SibSp\"] = np.where(train_data[\"SibSp\"] > 5, median_sibsp,train_data[\"SibSp\"])"
      ],
      "metadata": {
        "id": "0KIDlESPEwAB"
      },
      "execution_count": 80,
      "outputs": []
    },
    {
      "cell_type": "code",
      "source": [
        "median_fare = train_data[\"Fare\"].median()\n",
        "train_data[\"Fare\"] = np.where(train_data[\"Fare\"] > 300, median_fare,train_data[\"Fare\"])"
      ],
      "metadata": {
        "id": "5Sy5QXugExyn"
      },
      "execution_count": 81,
      "outputs": []
    },
    {
      "cell_type": "markdown",
      "source": [
        "Deal with Outliers - Test Data"
      ],
      "metadata": {
        "id": "wJhSlhkhEznW"
      }
    },
    {
      "cell_type": "code",
      "source": [
        "median_age = test_data[\"Age\"].median()\n",
        "test_data[\"Age\"] = np.where(test_data[\"Age\"] > 66, median_age,test_data[\"Age\"])"
      ],
      "metadata": {
        "id": "ynjD6vJDE3YA"
      },
      "execution_count": 82,
      "outputs": []
    },
    {
      "cell_type": "code",
      "source": [
        "median_sibsp = test_data[\"SibSp\"].median()\n",
        "test_data[\"SibSp\"] = np.where(test_data[\"SibSp\"] > 5, median_sibsp,test_data[\"SibSp\"])"
      ],
      "metadata": {
        "id": "Vn_T9kKbE4qc"
      },
      "execution_count": 83,
      "outputs": []
    },
    {
      "cell_type": "code",
      "source": [
        "median_fare = test_data[\"Fare\"].median()\n",
        "test_data[\"Fare\"] = np.where(test_data[\"Fare\"] > 300, median_fare,test_data[\"Fare\"])"
      ],
      "metadata": {
        "id": "88JkhIcXE519"
      },
      "execution_count": 84,
      "outputs": []
    },
    {
      "cell_type": "markdown",
      "source": [
        "Transforming Variables\n",
        "- - -"
      ],
      "metadata": {
        "id": "_CcN0a2zFC2Y"
      }
    },
    {
      "cell_type": "markdown",
      "source": [
        "Embarked Variable - Train Data"
      ],
      "metadata": {
        "id": "Bg_68AiIFFFL"
      }
    },
    {
      "cell_type": "code",
      "source": [
        "train_data[\"Port_Embarkation\"] = np.where(train_data[\"Embarked\"].astype(str).str[0] == \"C\", \"C\",\n",
        "                                 np.where(train_data[\"Embarked\"].astype(str).str[0] == \"Q\", \"Q\",\n",
        "                                 np.where(train_data[\"Embarked\"].astype(str).str[0] == \"S\", \"S\",\n",
        "                                 \"NaN\")))"
      ],
      "metadata": {
        "id": "US165ZcwFVGr"
      },
      "execution_count": 85,
      "outputs": []
    },
    {
      "cell_type": "markdown",
      "source": [
        "Embarked Variable - Test Data"
      ],
      "metadata": {
        "id": "a7Pgc4z8FYxU"
      }
    },
    {
      "cell_type": "code",
      "source": [
        "test_data[\"Port_Embarkation\"] = np.where(test_data[\"Embarked\"].astype(str).str[0] == \"C\", \"C\",\n",
        "                                 np.where(test_data[\"Embarked\"].astype(str).str[0] == \"Q\", \"Q\",\n",
        "                                 np.where(test_data[\"Embarked\"].astype(str).str[0] == \"S\", \"S\",\n",
        "                                 \"NaN\")))"
      ],
      "metadata": {
        "id": "WekdwYwyFbT6"
      },
      "execution_count": 86,
      "outputs": []
    },
    {
      "cell_type": "markdown",
      "source": [
        "#Modeling"
      ],
      "metadata": {
        "id": "J4PsNqfWFf_n"
      }
    },
    {
      "cell_type": "markdown",
      "source": [
        "Features to Consider\n",
        "- - -"
      ],
      "metadata": {
        "id": "sefA3Wn0Fr8z"
      }
    },
    {
      "cell_type": "code",
      "source": [
        "features = [\"Pclass\",\"Sex\",\"Age\",\"SibSp\",\"Parch\",\"Fare\",\"Port_Embarkation\"]\n",
        "\n",
        "train = train_data[features]\n",
        "test = test_data[features]"
      ],
      "metadata": {
        "id": "u-JtzULiFxGX"
      },
      "execution_count": 87,
      "outputs": []
    },
    {
      "cell_type": "markdown",
      "source": [
        "Transform categorical variables into numeric variables\n",
        "- - -"
      ],
      "metadata": {
        "id": "w0kWsVcWF4Qf"
      }
    },
    {
      "cell_type": "code",
      "source": [
        "X_train = pd.get_dummies(train)\n",
        "y_train = train_data[\"Survived\"]\n",
        "\n",
        "X_test = pd.get_dummies(test)"
      ],
      "metadata": {
        "id": "J4nhiuoJF_iu"
      },
      "execution_count": 88,
      "outputs": []
    },
    {
      "cell_type": "markdown",
      "source": [
        "Run some models to choose the best one\n",
        "- - -"
      ],
      "metadata": {
        "id": "nremOgilGD95"
      }
    },
    {
      "cell_type": "code",
      "source": [
        "cv = KFold(n_splits=10, shuffle=True, random_state=1)\n",
        "\n",
        "models = [LogisticRegression(random_state=20),\n",
        "          DecisionTreeClassifier(random_state=20),\n",
        "          KNeighborsClassifier(n_neighbors=5),\n",
        "          RandomForestClassifier(random_state=20),\n",
        "          xgb.XGBClassifier(random_state=20)]\n",
        "\n",
        "names = [\"LogisticRegression\", \"Decision Tree\", \"K Neighbors\",\"Random Forest\",\"XGBoost\"]\n",
        "\n",
        "for model, name in zip(models, names):\n",
        "    print(name)\n",
        "    for score in [\"accuracy\", \"precision\", \"neg_mean_squared_error\"]:\n",
        "        result = cross_val_score(model, X_train, y_train, scoring=score, cv=cv)\n",
        "        print(score,': %.4f (%.3f)' % (np.mean(result), np.std(result)))\n",
        "    print(\"\\r\\n\")"
      ],
      "metadata": {
        "id": "P6MdNEtjGlUT"
      },
      "execution_count": null,
      "outputs": []
    },
    {
      "cell_type": "markdown",
      "source": [
        "Best model is XGBoost"
      ],
      "metadata": {
        "id": "FkH8khFGG1hP"
      }
    },
    {
      "cell_type": "markdown",
      "source": [
        "Applying the best model - XGBoost"
      ],
      "metadata": {
        "id": "xvPnK1NvobDW"
      }
    },
    {
      "cell_type": "code",
      "source": [
        "best_model = xgb.XGBClassifier(verbosity = 3, max_depth = 3, booster = \"gbtree\", random_state=20)\n",
        "best_model.fit(X_train, y_train)\n",
        "y_predict = best_model.predict(X_test)"
      ],
      "metadata": {
        "id": "sedOe3MhogM7"
      },
      "execution_count": null,
      "outputs": []
    },
    {
      "cell_type": "markdown",
      "source": [
        "#Analize the result"
      ],
      "metadata": {
        "id": "vjmGWiczo4CV"
      }
    },
    {
      "cell_type": "code",
      "source": [
        "results = test_data\n",
        "results[\"Survives_Predict\"] = pd.DataFrame(y_predict)\n",
        "results.describe"
      ],
      "metadata": {
        "id": "cCSYdqhKoj8u"
      },
      "execution_count": null,
      "outputs": []
    },
    {
      "cell_type": "markdown",
      "source": [
        "Output in .csv File\n",
        "- - -"
      ],
      "metadata": {
        "id": "QHX6M6WTpgDA"
      }
    },
    {
      "cell_type": "code",
      "source": [
        "df = pd.DataFrame({\"PassengerId\": test_data.PassengerId,\n",
        "                   \"Survived\": y_predict\n",
        "                   })\n",
        "df.to_csv(\"submission.csv\", index=False)"
      ],
      "metadata": {
        "id": "3ARY71oCpiaw"
      },
      "execution_count": 92,
      "outputs": []
    }
  ]
}